{
    "cells": [
        {
            "cell_type": "markdown",
            "metadata": {},
            "source": "This is some random data"
        },
        {
            "cell_type": "code",
            "execution_count": 1,
            "metadata": {},
            "outputs": [
                {
                    "data": {
                        "text/html": "<div>\n<style scoped>\n    .dataframe tbody tr th:only-of-type {\n        vertical-align: middle;\n    }\n\n    .dataframe tbody tr th {\n        vertical-align: top;\n    }\n\n    .dataframe thead th {\n        text-align: right;\n    }\n</style>\n<table border=\"1\" class=\"dataframe\">\n  <thead>\n    <tr style=\"text-align: right;\">\n      <th></th>\n      <th>links_link</th>\n      <th>links_name</th>\n      <th>links_stars</th>\n      <th>links_reviews</th>\n      <th>links_reviews_url</th>\n      <th>links_price</th>\n      <th>links_price2</th>\n      <th>links_notavailable</th>\n      <th>links_questions</th>\n      <th>links_questions_url</th>\n    </tr>\n  </thead>\n  <tbody>\n    <tr>\n      <th>0</th>\n      <td>https://www.amazon.es/Leche-Belleza-Makari-Gol...</td>\n      <td>Leche de Belleza Makari 24K Gold - Loci\u00f3n Acla...</td>\n      <td>3,3 de 5</td>\n      <td>16 valoraciones</td>\n      <td>https://www.amazon.es/Leche-Belleza-Makari-Gol...</td>\n      <td>69,05 \u20ac</td>\n      <td>69,05 \u20ac</td>\n      <td>NaN</td>\n      <td>NaN</td>\n      <td>NaN</td>\n    </tr>\n    <tr>\n      <th>1</th>\n      <td>https://www.amazon.es/Eminence-Organic-Skin-Pr...</td>\n      <td>Eminence - M\u00e1scara de probi\u00f3tico para piel tra...</td>\n      <td>4,1 de 5</td>\n      <td>144 valoraciones</td>\n      <td>https://www.amazon.es/Eminence-Organic-Skin-Pr...</td>\n      <td>184,00 \u20ac</td>\n      <td>184,00 \u20ac</td>\n      <td>NaN</td>\n      <td>NaN</td>\n      <td>NaN</td>\n    </tr>\n    <tr>\n      <th>2</th>\n      <td>https://www.amazon.es/Probiotic-Hadayubi-Moist...</td>\n      <td>Dr. Ohhira's Probiotic Hadayubi Lavender Moist...</td>\n      <td>3,7 de 5</td>\n      <td>9 valoraciones</td>\n      <td>https://www.amazon.es/Probiotic-Hadayubi-Moist...</td>\n      <td>69,99 \u20ac</td>\n      <td>69,99 \u20ac</td>\n      <td>NaN</td>\n      <td>NaN</td>\n      <td>NaN</td>\n    </tr>\n    <tr>\n      <th>3</th>\n      <td>https://www.amazon.es/Jab%C3%B3n-Aclarante-Mak...</td>\n      <td>Jab\u00f3n Aclarante Makari 24K Gold - Con Omega 3 ...</td>\n      <td>3,8 de 5</td>\n      <td>45 valoraciones</td>\n      <td>https://www.amazon.es/Jab%C3%B3n-Aclarante-Mak...</td>\n      <td>36,99 \u20ac</td>\n      <td>36,99 \u20ac</td>\n      <td>NaN</td>\n      <td>NaN</td>\n      <td>NaN</td>\n    </tr>\n    <tr>\n      <th>4</th>\n      <td>https://www.amazon.es/Crema-Tratamiento-Noctur...</td>\n      <td>Crema De Tratamiento Nocturno Makari 24K Gold ...</td>\n      <td>3,3 de 5</td>\n      <td>14 valoraciones</td>\n      <td>https://www.amazon.es/Crema-Tratamiento-Noctur...</td>\n      <td>68,99 \u20ac</td>\n      <td>68,99 \u20ac</td>\n      <td>NaN</td>\n      <td>NaN</td>\n      <td>NaN</td>\n    </tr>\n  </tbody>\n</table>\n</div>",
                        "text/plain": "                                          links_link  \\\n0  https://www.amazon.es/Leche-Belleza-Makari-Gol...   \n1  https://www.amazon.es/Eminence-Organic-Skin-Pr...   \n2  https://www.amazon.es/Probiotic-Hadayubi-Moist...   \n3  https://www.amazon.es/Jab%C3%B3n-Aclarante-Mak...   \n4  https://www.amazon.es/Crema-Tratamiento-Noctur...   \n\n                                          links_name links_stars  \\\n0  Leche de Belleza Makari 24K Gold - Loci\u00f3n Acla...    3,3 de 5   \n1  Eminence - M\u00e1scara de probi\u00f3tico para piel tra...    4,1 de 5   \n2  Dr. Ohhira's Probiotic Hadayubi Lavender Moist...    3,7 de 5   \n3  Jab\u00f3n Aclarante Makari 24K Gold - Con Omega 3 ...    3,8 de 5   \n4  Crema De Tratamiento Nocturno Makari 24K Gold ...    3,3 de 5   \n\n      links_reviews                                  links_reviews_url  \\\n0   16 valoraciones  https://www.amazon.es/Leche-Belleza-Makari-Gol...   \n1  144 valoraciones  https://www.amazon.es/Eminence-Organic-Skin-Pr...   \n2    9 valoraciones  https://www.amazon.es/Probiotic-Hadayubi-Moist...   \n3   45 valoraciones  https://www.amazon.es/Jab%C3%B3n-Aclarante-Mak...   \n4   14 valoraciones  https://www.amazon.es/Crema-Tratamiento-Noctur...   \n\n  links_price links_price2 links_notavailable links_questions  \\\n0     69,05 \u20ac      69,05 \u20ac                NaN             NaN   \n1    184,00 \u20ac     184,00 \u20ac                NaN             NaN   \n2     69,99 \u20ac      69,99 \u20ac                NaN             NaN   \n3     36,99 \u20ac      36,99 \u20ac                NaN             NaN   \n4     68,99 \u20ac      68,99 \u20ac                NaN             NaN   \n\n  links_questions_url  \n0                 NaN  \n1                 NaN  \n2                 NaN  \n3                 NaN  \n4                 NaN  "
                    },
                    "execution_count": 1,
                    "metadata": {},
                    "output_type": "execute_result"
                }
            ],
            "source": "# The code was removed by Watson Studio for sharing."
        },
        {
            "cell_type": "code",
            "execution_count": null,
            "metadata": {},
            "outputs": [],
            "source": ""
        }
    ],
    "metadata": {
        "kernelspec": {
            "display_name": "Python 3.6",
            "language": "python",
            "name": "python3"
        },
        "language_info": {
            "codemirror_mode": {
                "name": "ipython",
                "version": 3
            },
            "file_extension": ".py",
            "mimetype": "text/x-python",
            "name": "python",
            "nbconvert_exporter": "python",
            "pygments_lexer": "ipython3",
            "version": "3.6.9"
        }
    },
    "nbformat": 4,
    "nbformat_minor": 1
}